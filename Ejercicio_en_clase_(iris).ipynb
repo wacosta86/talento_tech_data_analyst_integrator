{
  "nbformat": 4,
  "nbformat_minor": 0,
  "metadata": {
    "colab": {
      "provenance": [],
      "authorship_tag": "ABX9TyO5ZBhDAkLzojKwauQ7rMaA",
      "include_colab_link": true
    },
    "kernelspec": {
      "name": "python3",
      "display_name": "Python 3"
    },
    "language_info": {
      "name": "python"
    }
  },
  "cells": [
    {
      "cell_type": "markdown",
      "metadata": {
        "id": "view-in-github",
        "colab_type": "text"
      },
      "source": [
        "<a href=\"https://colab.research.google.com/github/wacosta86/talento_tech_data_analyst_integrator/blob/main/Ejercicio_en_clase_(iris).ipynb\" target=\"_parent\"><img src=\"https://colab.research.google.com/assets/colab-badge.svg\" alt=\"Open In Colab\"/></a>"
      ]
    },
    {
      "cell_type": "markdown",
      "source": [
        "Para el conjunto de iris, calcular el promedio de las medidas de las flores de cada especie. Una vez se tengan los promedios de las tres especies, calcular la distancia Manhattan y euclidiana entre cada par de promedios. Graficar las distancias y sacar conclusiones de lo observado."
      ],
      "metadata": {
        "id": "O_zpLE68ujmi"
      }
    },
    {
      "cell_type": "code",
      "source": [
        "import pandas as pd\n",
        "\n",
        "# Load the Iris dataset\n",
        "iris_url = 'https://raw.githubusercontent.com/uiuc-cse/data-fa14/gh-pages/data/iris.csv'\n",
        "iris_data = pd.read_csv(iris_url)"
      ],
      "metadata": {
        "id": "RRGAwoBMuk4B"
      },
      "execution_count": null,
      "outputs": []
    },
    {
      "cell_type": "code",
      "source": [
        "# Calculate the average measurements of the flowers for each species\n",
        "average_per_species = iris_data.groupby('species').mean()\n",
        "\n",
        "# Display the average per species\n",
        "print(average_per_species)"
      ],
      "metadata": {
        "colab": {
          "base_uri": "https://localhost:8080/"
        },
        "id": "tt7MFqdLu6wS",
        "outputId": "d7e94836-7a47-44b2-bf5e-80e371d59246"
      },
      "execution_count": null,
      "outputs": [
        {
          "output_type": "stream",
          "name": "stdout",
          "text": [
            "            sepal_length  sepal_width  petal_length  petal_width\n",
            "species                                                         \n",
            "setosa             5.006        3.418         1.464        0.244\n",
            "versicolor         5.936        2.770         4.260        1.326\n",
            "virginica          6.588        2.974         5.552        2.026\n"
          ]
        }
      ]
    },
    {
      "cell_type": "code",
      "source": [
        "from scipy.spatial.distance import pdist, cdist\n",
        "import numpy as np\n",
        "\n",
        "# Calculate Manhattan and Euclidean distance between each pair of averages\n",
        "dist_manhattan = pdist(average_per_species, metric='cityblock')\n",
        "dist_euclidean = pdist(average_per_species, metric='euclidean')\n",
        "\n",
        "# Convert distances to a square matrix\n",
        "dist_manhattan_matrix = cdist(average_per_species, average_per_species, metric='cityblock')\n",
        "dist_euclidean_matrix = cdist(average_per_species, average_per_species, metric='euclidean')\n",
        "\n",
        "# Display the distances\n",
        "print(\"Manhattan distance between each pair of averages:\")\n",
        "print(dist_manhattan)\n",
        "print(\"\\nEuclidean distance between each pair of averages:\")\n",
        "print(dist_euclidean)\n",
        "\n",
        "print(\"\\nManhattan distance matrix:\")\n",
        "print(dist_manhattan_matrix)\n",
        "print(\"\\nEuclidean distance matrix:\")\n",
        "print(dist_euclidean_matrix)"
      ],
      "metadata": {
        "colab": {
          "base_uri": "https://localhost:8080/"
        },
        "id": "nad-Y2NyKPCJ",
        "outputId": "22f18082-c0bc-42a1-a267-3c066c45a63f"
      },
      "execution_count": null,
      "outputs": [
        {
          "output_type": "stream",
          "name": "stdout",
          "text": [
            "Manhattan distance between each pair of averages:\n",
            "[5.456 7.896 2.848]\n",
            "\n",
            "Euclidean distance between each pair of averages:\n",
            "[3.20517457 4.75259171 1.62048882]\n",
            "\n",
            "Manhattan distance matrix:\n",
            "[[0.    5.456 7.896]\n",
            " [5.456 0.    2.848]\n",
            " [7.896 2.848 0.   ]]\n",
            "\n",
            "Euclidean distance matrix:\n",
            "[[0.         3.20517457 4.75259171]\n",
            " [3.20517457 0.         1.62048882]\n",
            " [4.75259171 1.62048882 0.        ]]\n"
          ]
        }
      ]
    },
    {
      "cell_type": "code",
      "source": [
        "import matplotlib.pyplot as plt\n",
        "\n",
        "# Crear una figura con un solo subplot\n",
        "fig, ax = plt.subplots(figsize=(8, 6))\n",
        "\n",
        "# Graficar la distancia Manhattan\n",
        "manhattan = ax.scatter(range(len(dist_manhattan)), dist_manhattan, color='skyblue', label='Manhattan Distance')\n",
        "# Graficar la distancia Euclidiana\n",
        "euclidean = ax.scatter(range(len(dist_euclidean)), dist_euclidean, color='lightcoral', label='Euclidean Distance')\n",
        "\n",
        "# Agregar etiquetas de especies\n",
        "species_labels = average_per_species.index\n",
        "for i, species in enumerate(species_labels):\n",
        "    ax.text(i, 0, species, ha='center', va='bottom')\n",
        "\n",
        "# Agregar leyenda\n",
        "ax.legend()\n",
        "\n",
        "# Agregar etiquetas y título\n",
        "ax.set_xlabel('Pair of Averages')\n",
        "ax.set_ylabel('Distance')\n",
        "ax.set_title('Distance between each pair of averages')\n",
        "\n",
        "# Mostrar el gráfico\n",
        "plt.show()"
      ],
      "metadata": {
        "colab": {
          "base_uri": "https://localhost:8080/",
          "height": 608
        },
        "id": "UHr1k1-zKxaI",
        "outputId": "94cd3b99-a1a7-4fd0-d8b5-2c79dd87b587"
      },
      "execution_count": null,
      "outputs": [
        {
          "output_type": "display_data",
          "data": {
            "text/plain": [
              "<Figure size 800x600 with 1 Axes>"
            ],
            "image/png": "[encoded data removed]"
          },
          "metadata": {}
        }
      ]
    },
    {
      "cell_type": "markdown",
      "source": [
        "Diferencia en los valores de distancia: Las distancias de Manhattan tienden a ser mayores que las distancias euclidianas entre los pares de promedios. Esto es esperado, ya que la distancia de Manhattan se calcula como la suma de las diferencias absolutas entre las coordenadas, mientras que la distancia euclidiana se calcula como la raíz cuadrada de la suma de las diferencias al cuadrado."
      ],
      "metadata": {
        "id": "VLtzsegnO_pV"
      }
    },
    {
      "cell_type": "markdown",
      "source": [
        "Similitud entre especies: Al comparar las distancias, podemos observar que algunos pares de especies tienen promedios más cercanos que otros. Por ejemplo, las distancias entre los promedios de \"setosa\" y \"versicolor\" suelen ser más pequeñas que las distancias entre los promedios de \"setosa\" y \"virginica\" o \"versicolor\" y \"virginica\". Esto sugiere que \"setosa\" y \"versicolor\" pueden ser más similares en términos de sus medidas que \"setosa\" y \"virginica\" o \"versicolor\" y \"virginica\"."
      ],
      "metadata": {
        "id": "_rQuPBjAQC_V"
      }
    },
    {
      "cell_type": "markdown",
      "source": [
        "¿Puede un modelo agrupar datos con base en estas medidas?\n",
        "\n",
        "Sí, un modelo de agrupamiento (como K-Means, DBSCAN, o cualquier otro algoritmo de agrupamiento) podría utilizar estas medidas de distancia entre los promedios de las medidas de las flores de iris para agrupar los datos en grupos o \"clusters\" similares. Estos modelos utilizan la distancia entre los puntos de datos para determinar qué puntos son similares y pertenecen al mismo grupo."
      ],
      "metadata": {
        "id": "XHK9yjS2w7ef"
      }
    },
    {
      "cell_type": "markdown",
      "source": [
        "¿Si no se tuviese la especie de la flor como dato en el dataset, se podría encontrar cuantas especies existen? ¿Cómo se emplearía la medida de distancia para ese fin?\n",
        "\n",
        "Si no se tiene la especie de la flor como dato en el dataset y se desea encontrar cuántas especies existen en base a las medidas de las flores, se puede utilizar un enfoque de clustering para intentar identificar los diferentes grupos de flores que pueden corresponder a diferentes especies."
      ],
      "metadata": {
        "id": "1JUAVuWwxIVG"
      }
    }
  ]
}