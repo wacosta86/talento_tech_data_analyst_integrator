{
  "nbformat": 4,
  "nbformat_minor": 0,
  "metadata": {
    "colab": {
      "provenance": [],
      "authorship_tag": "ABX9TyN/DTtC+E4gLhy1rtDxMpop",
      "include_colab_link": true
    },
    "kernelspec": {
      "name": "python3",
      "display_name": "Python 3"
    },
    "language_info": {
      "name": "python"
    }
  },
  "cells": [
    {
      "cell_type": "markdown",
      "metadata": {
        "id": "view-in-github",
        "colab_type": "text"
      },
      "source": [
        "<a href=\"https://colab.research.google.com/github/wacosta86/talento_tech_data_analyst_integrator/blob/main/Medidas_de_distancia_en_datos.ipynb\" target=\"_parent\"><img src=\"https://colab.research.google.com/assets/colab-badge.svg\" alt=\"Open In Colab\"/></a>"
      ]
    },
    {
      "cell_type": "markdown",
      "source": [
        "Euclidean distance"
      ],
      "metadata": {
        "id": "0AnHnT4XzIPa"
      }
    },
    {
      "cell_type": "code",
      "execution_count": 1,
      "metadata": {
        "colab": {
          "base_uri": "https://localhost:8080/"
        },
        "id": "5jhP5y-hzCms",
        "outputId": "6427156a-0aae-4d82-c8ff-4aabd17e83fd"
      },
      "outputs": [
        {
          "output_type": "stream",
          "name": "stdout",
          "text": [
            "The Euclidean distance between points (2, 4) and (6, 8) is: 5.656854249492381\n"
          ]
        }
      ],
      "source": [
        "import math\n",
        "\n",
        "def euclidean_distance(x1, y1, x2, y2):\n",
        "    return math.sqrt((x2 - x1)**2 + (y2 - y1)**2)\n",
        "\n",
        "x1, y1 = 2, 4\n",
        "x2, y2 = 6, 8\n",
        "distance = euclidean_distance(x1, y1, x2, y2)\n",
        "print(f\"The Euclidean distance between points ({x1}, {y1}) and ({x2}, {y2}) is: {distance}\")"
      ]
    },
    {
      "cell_type": "markdown",
      "source": [
        "Manhattan distance"
      ],
      "metadata": {
        "id": "ot0Y__IAz9-x"
      }
    },
    {
      "cell_type": "code",
      "source": [
        "def manhattan_distance(x1, y1, x2, y2):\n",
        "    return abs(x2 - x1) + abs(y2 - y1)\n",
        "\n",
        "x1, y1 = 2, 4\n",
        "x2, y2 = 6, 8\n",
        "distance = manhattan_distance(x1, y1, x2, y2)\n",
        "print(f\"The Manhattan distance between points ({x1}, {y1}) and ({x2}, {y2}) is: {distance}\")"
      ],
      "metadata": {
        "colab": {
          "base_uri": "https://localhost:8080/"
        },
        "id": "Wz4cAApAz_l6",
        "outputId": "b26e3c45-5d65-4fa2-ba32-51d28c695893"
      },
      "execution_count": 2,
      "outputs": [
        {
          "output_type": "stream",
          "name": "stdout",
          "text": [
            "The Manhattan distance between points (2, 4) and (6, 8) is: 8\n"
          ]
        }
      ]
    },
    {
      "cell_type": "markdown",
      "source": [
        "Hamming distance"
      ],
      "metadata": {
        "id": "_ag9g_Do0RD5"
      }
    },
    {
      "cell_type": "code",
      "source": [
        "def hamming_distance(str1, str2):\n",
        "    if len(str1) != len(str2):\n",
        "        print(\"Strings must be of the same length\")\n",
        "        return None\n",
        "\n",
        "    distance = 0\n",
        "    for i in range(len(str1)):\n",
        "        if str1[i] != str2[i]:\n",
        "            distance += 1\n",
        "\n",
        "    return distance\n",
        "\n",
        "str1 = \"110010\"\n",
        "str2 = \"101110\"\n",
        "distance = hamming_distance(str1, str2)\n",
        "if distance is not None:\n",
        "    print(f\"The Hamming distance between '{str1}' and '{str2}' is: {distance}\")"
      ],
      "metadata": {
        "colab": {
          "base_uri": "https://localhost:8080/"
        },
        "id": "f6ekrc0J0SLL",
        "outputId": "eb81ae91-c2e1-4d2b-c30d-5a67946d9b80"
      },
      "execution_count": 3,
      "outputs": [
        {
          "output_type": "stream",
          "name": "stdout",
          "text": [
            "The Hamming distance between '110010' and '101110' is: 3\n"
          ]
        }
      ]
    },
    {
      "cell_type": "markdown",
      "source": [
        "Chebyshev distance"
      ],
      "metadata": {
        "id": "0feV-WTd1or6"
      }
    },
    {
      "cell_type": "code",
      "source": [
        "def chebyshev_distance(x1, y1, x2, y2):\n",
        "    return max(abs(x2 - x1), abs(y2 - y1))\n",
        "\n",
        "x1, y1 = 2, 4\n",
        "x2, y2 = 6, 8\n",
        "distance = chebyshev_distance(x1, y1, x2, y2)\n",
        "print(f\"The Chebyshev distance between points ({x1}, {y1}) and ({x2}, {y2}) is: {distance}\")"
      ],
      "metadata": {
        "colab": {
          "base_uri": "https://localhost:8080/"
        },
        "id": "H9JIB2kQ1pf4",
        "outputId": "4925a161-6eea-4c5d-b18a-1a8171ffef75"
      },
      "execution_count": 4,
      "outputs": [
        {
          "output_type": "stream",
          "name": "stdout",
          "text": [
            "The Chebyshev distance between points (2, 4) and (6, 8) is: 4\n"
          ]
        }
      ]
    },
    {
      "cell_type": "markdown",
      "source": [
        "Canberra distance"
      ],
      "metadata": {
        "id": "lACgOXpA2z1C"
      }
    },
    {
      "cell_type": "code",
      "source": [
        "def canberra_distance(x1, y1, x2, y2):\n",
        "    if len(x1) != len(y1) or len(x2) != len(y2) or len(x1) != len(x2):\n",
        "        print(\"Lists must have the same length\")\n",
        "        return None\n",
        "\n",
        "    distance = sum(abs(x2[i] - x1[i]) / (abs(x2[i]) + abs(x1[i])) + abs(y2[i] - y1[i]) / (abs(y2[i]) + abs(y1[i])) for i in range(len(x1)))\n",
        "    return distance\n",
        "\n",
        "x1 = [1, 2, 3]\n",
        "y1 = [4, 5, 6]\n",
        "x2 = [4, 5, 6]\n",
        "y2 = [1, 2, 3]\n",
        "distance = canberra_distance(x1, y1, x2, y2)\n",
        "if distance is not None:\n",
        "    print(f\"The Canberra distance between points ({x1}, {y1}) and ({x2}, {y2}) is: {distance}\")"
      ],
      "metadata": {
        "id": "ZSXPD4gC21BW",
        "colab": {
          "base_uri": "https://localhost:8080/"
        },
        "outputId": "16aa2d48-396d-4ed0-d4b5-a59169c68a2f"
      },
      "execution_count": 5,
      "outputs": [
        {
          "output_type": "stream",
          "name": "stdout",
          "text": [
            "The Canberra distance between points ([1, 2, 3], [4, 5, 6]) and ([4, 5, 6], [1, 2, 3]) is: 2.7238095238095235\n"
          ]
        }
      ]
    },
    {
      "cell_type": "markdown",
      "source": [
        "Cosine distance"
      ],
      "metadata": {
        "id": "cC7VMY9bG83i"
      }
    },
    {
      "cell_type": "code",
      "source": [
        "import numpy as np\n",
        "\n",
        "def cosine_distance(a, b):\n",
        "    dot_product = np.dot(a, b)\n",
        "    norm_a = np.linalg.norm(a)\n",
        "    norm_b = np.linalg.norm(b)\n",
        "    return 1 - (dot_product / (norm_a * norm_b))\n",
        "\n",
        "a = np.array([1, 2, 3])\n",
        "b = np.array([4, 5, 6])\n",
        "distance = cosine_distance(a, b)\n",
        "print(f\"The Cosine distance between vectors {a} and {b} is: {distance}\")"
      ],
      "metadata": {
        "colab": {
          "base_uri": "https://localhost:8080/"
        },
        "id": "lKejdJvQG_9B",
        "outputId": "ac7f2c8f-da18-4166-ebbb-bc0707dbb03b"
      },
      "execution_count": 12,
      "outputs": [
        {
          "output_type": "stream",
          "name": "stdout",
          "text": [
            "The Cosine distance between vectors [1 2 3] and [4 5 6] is: 0.025368153802923787\n"
          ]
        }
      ]
    },
    {
      "cell_type": "markdown",
      "source": [
        "Jaccard distance"
      ],
      "metadata": {
        "id": "9Au5-7DeLzwW"
      }
    },
    {
      "cell_type": "code",
      "source": [
        "def jaccard_distance(set1, set2):\n",
        "    intersection = len(set1.intersection(set2))\n",
        "    union = len(set1.union(set2))\n",
        "    return 1 - intersection / union\n",
        "\n",
        "set1 = set([1, 2, 3, 4])\n",
        "set2 = set([3, 4, 5, 6])\n",
        "distance = jaccard_distance(set1, set2)\n",
        "print(f\"The Jaccard distance between sets {set1} and {set2} is: {distance}\")"
      ],
      "metadata": {
        "colab": {
          "base_uri": "https://localhost:8080/"
        },
        "id": "hXj0NxXGL0me",
        "outputId": "2d45f66f-2de5-4b34-c216-77be5696fdbf"
      },
      "execution_count": 14,
      "outputs": [
        {
          "output_type": "stream",
          "name": "stdout",
          "text": [
            "The Jaccard distance between sets {1, 2, 3, 4} and {3, 4, 5, 6} is: 0.6666666666666667\n"
          ]
        }
      ]
    },
    {
      "cell_type": "markdown",
      "source": [],
      "metadata": {
        "id": "bxKXC04d3td8"
      }
    }
  ]
}